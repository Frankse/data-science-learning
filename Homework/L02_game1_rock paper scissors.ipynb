{
 "cells": [
  {
   "cell_type": "code",
   "execution_count": null,
   "id": "b6ea22f1-906c-4ec5-98d1-9b24cf1cfd84",
   "metadata": {},
   "outputs": [],
   "source": [
    "# Game: Rock paper scissors\n",
    "# A program to play Rock paper scissors with the computer.\n",
    "# define rules: paper > rock, etc. \n",
    "# computer random generate one choice\n",
    "# player input\n",
    "# get result from rules, return a win / lose / draw\n",
    "# counter of how many times player win / lose\n",
    "# play 3 rounds, if draw not count\n"
   ]
  },
  {
   "cell_type": "code",
   "execution_count": null,
   "id": "2f982427-48ad-49bf-a8b9-32a7218b769f",
   "metadata": {},
   "outputs": [],
   "source": [
    "# play rock paper scissors, 3 rounds\n",
    "# round 1\n",
    "# get input from player...\n",
    "\n"
   ]
  },
  {
   "cell_type": "code",
   "execution_count": 8,
   "id": "470c72b8-adab-46d8-91fe-a66ea2bf98d2",
   "metadata": {},
   "outputs": [],
   "source": [
    "def player_input(round_num):\n",
    "    while True:\n",
    "        player = input('Round {}, please choose rock, paper or scissors: '.format(round_num))\n",
    "        if player == 'rock' or player == 'paper' or player == 'scissors':\n",
    "            return player\n",
    "            break\n",
    "\n",
    "def game1():\n",
    "    (player_score, computer_score, round_num) = (0,0,1)\n",
    "    for i in range(3):\n",
    "        while True:\n",
    "            player = player_input(round_num)\n",
    "            \n",
    "            import random\n",
    "            computer = random.choice(['rock', 'paper' ,'scissors'])\n",
    "            \n",
    "            result=0\n",
    "            if player == 'rock' and computer == 'rock':\n",
    "                print('Round {}, you are {}, computer is {}, Draw, let us play again.'.format(round_num, player, computer)) \n",
    "                result = 'Draw'\n",
    "            elif player == 'rock' and computer == 'paper':\n",
    "                print('Round {}, you are {}, computer is {}, You lose!'.format(round_num, player, computer))\n",
    "                computer_score += 1\n",
    "            elif player == 'rock' and computer == 'scissors':\n",
    "                print('Round {}, you are {}, computer is {}, You win!'.format(round_num, player, computer))\n",
    "                player_score += 1\n",
    "\n",
    "            elif player == 'paper' and computer == 'rock':\n",
    "                print('Round {}, you are {}, computer is {}, You win!'.format(round_num, player, computer))\n",
    "                player_score += 1\n",
    "            elif player == 'paper' and computer == 'paper':\n",
    "                result = 'Draw'\n",
    "                print('Round {}, you are {}, computer is {}, draw, let us play again.'.format(round_num, player, computer))\n",
    "            elif player == 'paper' and computer == 'scissors':\n",
    "                print('Round {}, you are {}, computer is {}, You lose!'.format(round_num, player, computer))\n",
    "                computer_score += 1\n",
    "\n",
    "            elif player == 'scissors' and computer == 'rock':\n",
    "                print('Round {}, you are {}, computer is {}, You lose!'.format(round_num, player, computer))\n",
    "                computer_score += 1\n",
    "            elif player == 'scissors' and computer == 'paper':\n",
    "                print('Round {}, you are {}, computer is {}, You win!'.format(round_num, player, computer))\n",
    "                player_score += 1\n",
    "            elif player == 'scissors' and computer == 'scissors':\n",
    "                result = 'Draw'\n",
    "                print('Round {}, you are {}, computer is {}, Draw, let us play again.'.format(round_num, player, computer))\n",
    "            if result == 0:\n",
    "                break\n",
    "                \n",
    "        print('Your total score is {}, computer total score is {}' .format(player_score, computer_score))\n",
    "        round_num += 1\n",
    "        i += 1\n",
    "        \n",
    "    if player_score > computer_score:\n",
    "        print('Finally, you win!')\n",
    "    else:\n",
    "        print('Finally, you lose!')\n",
    "        \n"
   ]
  },
  {
   "cell_type": "code",
   "execution_count": 9,
   "id": "7bc1d176-8e97-418c-bf49-2da346cc4541",
   "metadata": {},
   "outputs": [
    {
     "name": "stdin",
     "output_type": "stream",
     "text": [
      "Round 3, please choose rock, paper or scissors:  ro\n",
      "Round 3, please choose rock, paper or scissors:  rock\n"
     ]
    },
    {
     "data": {
      "text/plain": [
       "'rock'"
      ]
     },
     "execution_count": 9,
     "metadata": {},
     "output_type": "execute_result"
    }
   ],
   "source": [
    "player_input(3)"
   ]
  },
  {
   "cell_type": "code",
   "execution_count": 11,
   "id": "346e177f-bdb6-484c-8481-85211d80ec4e",
   "metadata": {
    "tags": []
   },
   "outputs": [
    {
     "name": "stdin",
     "output_type": "stream",
     "text": [
      "Round 1, please choose rock, paper or scissors:  paper\n"
     ]
    },
    {
     "name": "stdout",
     "output_type": "stream",
     "text": [
      "Round 1, you are paper, computer is paper, draw, let us play again.\n"
     ]
    },
    {
     "name": "stdin",
     "output_type": "stream",
     "text": [
      "Round 1, please choose rock, paper or scissors:  paper\n"
     ]
    },
    {
     "name": "stdout",
     "output_type": "stream",
     "text": [
      "Round 1, you are paper, computer is scissors, You lose!\n",
      "Your total score is 0, computer total score is 1\n"
     ]
    },
    {
     "name": "stdin",
     "output_type": "stream",
     "text": [
      "Round 2, please choose rock, paper or scissors:  scissors\n"
     ]
    },
    {
     "name": "stdout",
     "output_type": "stream",
     "text": [
      "Round 2, you are scissors, computer is rock, You lose!\n",
      "Your total score is 0, computer total score is 2\n"
     ]
    },
    {
     "name": "stdin",
     "output_type": "stream",
     "text": [
      "Round 3, please choose rock, paper or scissors:  rock\n"
     ]
    },
    {
     "name": "stdout",
     "output_type": "stream",
     "text": [
      "Round 3, you are rock, computer is rock, Draw, let us play again.\n"
     ]
    },
    {
     "name": "stdin",
     "output_type": "stream",
     "text": [
      "Round 3, please choose rock, paper or scissors:  rock\n"
     ]
    },
    {
     "name": "stdout",
     "output_type": "stream",
     "text": [
      "Round 3, you are rock, computer is scissors, You win!\n",
      "Your total score is 1, computer total score is 2\n",
      "Finally, you lose!\n"
     ]
    }
   ],
   "source": [
    "game1()"
   ]
  }
 ],
 "metadata": {
  "kernelspec": {
   "display_name": "Python 3 (ipykernel)",
   "language": "python",
   "name": "python3"
  },
  "language_info": {
   "codemirror_mode": {
    "name": "ipython",
    "version": 3
   },
   "file_extension": ".py",
   "mimetype": "text/x-python",
   "name": "python",
   "nbconvert_exporter": "python",
   "pygments_lexer": "ipython3",
   "version": "3.9.12"
  }
 },
 "nbformat": 4,
 "nbformat_minor": 5
}

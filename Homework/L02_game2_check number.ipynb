{
 "cells": [
  {
   "cell_type": "code",
   "execution_count": null,
   "id": "809ada66-110e-4ba9-823b-f6afd6d0d478",
   "metadata": {},
   "outputs": [],
   "source": [
    "# range: 1-99 (inclusive)\n",
    "# system generate answer -> randon number\n",
    "# user input 1 number, check number within range\n",
    "# check input match answer or ont"
   ]
  },
  {
   "cell_type": "code",
   "execution_count": null,
   "id": "af2246c5-0d7f-4d23-8755-586ef9b7dbb9",
   "metadata": {},
   "outputs": [],
   "source": []
  },
  {
   "cell_type": "code",
   "execution_count": 20,
   "id": "a99d9e2e",
   "metadata": {},
   "outputs": [],
   "source": [
    "def player_input(start_num, end_num):\n",
    "    while True:\n",
    "        player = input('Please guess the number from {} to {}:'.format(start_num, end_num))\n",
    "        if player.isdigit() and start_num <= int(player) <= end_num:\n",
    "            return int(player)\n",
    "            break\n",
    "\n",
    "\n",
    "def game2():\n",
    "    import random\n",
    "    a = random.randint(1, 99)\n",
    "    (start_num, end_num) = (1, 99)\n",
    "    player = player_input(start_num , end_num)\n",
    "    \n",
    "    while True:\n",
    "        if player < a <= end_num:\n",
    "            start_num = player\n",
    "            player = player_input(start_num , end_num)\n",
    "        elif start_num <= a < player:\n",
    "            end_num = player\n",
    "            player = player_input(start_num , end_num)\n",
    "        elif player == a:\n",
    "            break\n",
    "\n",
    "    print('Bingo! The number is {}.'.format(a))"
   ]
  },
  {
   "cell_type": "code",
   "execution_count": 22,
   "id": "869e7b3b",
   "metadata": {},
   "outputs": [
    {
     "name": "stdin",
     "output_type": "stream",
     "text": [
      "Please guess the number from 5 to 80: f\n",
      "Please guess the number from 5 to 80: 666\n",
      "Please guess the number from 5 to 80: 43\n"
     ]
    },
    {
     "data": {
      "text/plain": [
       "43"
      ]
     },
     "execution_count": 22,
     "metadata": {},
     "output_type": "execute_result"
    }
   ],
   "source": [
    "player_input(5,80)"
   ]
  },
  {
   "cell_type": "code",
   "execution_count": 23,
   "id": "833ae538",
   "metadata": {},
   "outputs": [
    {
     "name": "stdin",
     "output_type": "stream",
     "text": [
      "Please guess the number from 1 to 99: 353\n",
      "Please guess the number from 1 to 99: 245\n",
      "Please guess the number from 1 to 99: 44\n",
      "Please guess the number from 44 to 99: 45\n",
      "Please guess the number from 45 to 99: 77\n",
      "Please guess the number from 77 to 99: 87\n",
      "Please guess the number from 77 to 87: 88\n",
      "Please guess the number from 77 to 87: 85\n",
      "Please guess the number from 77 to 85: 80\n",
      "Please guess the number from 80 to 85: 83\n"
     ]
    },
    {
     "name": "stdout",
     "output_type": "stream",
     "text": [
      "Bingo! The number is 83.\n"
     ]
    }
   ],
   "source": [
    "game2()"
   ]
  },
  {
   "cell_type": "code",
   "execution_count": null,
   "id": "8417342e-fecd-4ca9-8f5f-4d0009b6a53c",
   "metadata": {},
   "outputs": [],
   "source": []
  }
 ],
 "metadata": {
  "kernelspec": {
   "display_name": "Python 3 (ipykernel)",
   "language": "python",
   "name": "python3"
  },
  "language_info": {
   "codemirror_mode": {
    "name": "ipython",
    "version": 3
   },
   "file_extension": ".py",
   "mimetype": "text/x-python",
   "name": "python",
   "nbconvert_exporter": "python",
   "pygments_lexer": "ipython3",
   "version": "3.9.12"
  }
 },
 "nbformat": 4,
 "nbformat_minor": 5
}

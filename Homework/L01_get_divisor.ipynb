{
 "cells": [
  {
   "cell_type": "code",
   "execution_count": null,
   "id": "396f1271-1dc2-436c-8681-f9ae51eee8b3",
   "metadata": {},
   "outputs": [],
   "source": [
    "# input a number and find all its divisor"
   ]
  },
  {
   "cell_type": "code",
   "execution_count": 2,
   "id": "e904e532-ce5c-4208-8a48-be1265860d89",
   "metadata": {},
   "outputs": [],
   "source": [
    "def get_divisor(num):\n",
    "    a = 1\n",
    "    for i in range(num):\n",
    "        if num%a == 0:\n",
    "            print(a)\n",
    "        a = a+1"
   ]
  },
  {
   "cell_type": "code",
   "execution_count": 3,
   "id": "6112850e-48be-4414-ba32-ca37e89d8b25",
   "metadata": {},
   "outputs": [
    {
     "name": "stdout",
     "output_type": "stream",
     "text": [
      "1\n",
      "2\n",
      "17\n",
      "34\n",
      "223\n",
      "446\n",
      "3791\n",
      "7582\n"
     ]
    }
   ],
   "source": [
    "get_divisor(7582)"
   ]
  },
  {
   "cell_type": "code",
   "execution_count": null,
   "id": "f69f3aae-02cc-4836-949e-0a051409eb56",
   "metadata": {},
   "outputs": [],
   "source": []
  }
 ],
 "metadata": {
  "kernelspec": {
   "display_name": "Python 3 (ipykernel)",
   "language": "python",
   "name": "python3"
  },
  "language_info": {
   "codemirror_mode": {
    "name": "ipython",
    "version": 3
   },
   "file_extension": ".py",
   "mimetype": "text/x-python",
   "name": "python",
   "nbconvert_exporter": "python",
   "pygments_lexer": "ipython3",
   "version": "3.9.12"
  }
 },
 "nbformat": 4,
 "nbformat_minor": 5
}

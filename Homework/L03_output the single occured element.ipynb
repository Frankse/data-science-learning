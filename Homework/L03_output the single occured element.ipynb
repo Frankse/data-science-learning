{
 "cells": [
  {
   "cell_type": "code",
   "execution_count": null,
   "id": "0be0083e-85b5-4536-9748-78495ea64faa",
   "metadata": {},
   "outputs": [],
   "source": [
    "# write a function which input list with following propeteries\n",
    "# all elements are positive integer\n",
    "# all elements exist twice except one e.g [1,4,6,7,5,4,6,1,7] -> 5 and output the single occured element\n"
   ]
  },
  {
   "cell_type": "code",
   "execution_count": null,
   "id": "f2637868-cccc-43ee-a42d-df34a405b339",
   "metadata": {},
   "outputs": [],
   "source": [
    "# func([1,4,6,7,5,4,6,1,7])\n",
    "# output: 5\n",
    "\n",
    "# func([4,8,4,2,13,8,12,13,2])\n",
    "# output: 12"
   ]
  },
  {
   "cell_type": "code",
   "execution_count": 11,
   "id": "0af509fe-8322-454f-b2e1-f1e623b000f1",
   "metadata": {},
   "outputs": [],
   "source": [
    "# O(n*n)\n",
    "def myfunc1(l):\n",
    "    for i in range(len(l)):\n",
    "        if l.count(l[i]) == 1:\n",
    "            print(l[i])"
   ]
  },
  {
   "cell_type": "code",
   "execution_count": 5,
   "id": "3a3583d7-d483-4757-afc4-721fb8f40783",
   "metadata": {},
   "outputs": [
    {
     "name": "stdout",
     "output_type": "stream",
     "text": [
      "5\n"
     ]
    }
   ],
   "source": [
    "myfunc1([1,4,6,7,5,4,6,1,7])"
   ]
  },
  {
   "cell_type": "code",
   "execution_count": null,
   "id": "1686912c-e644-4ad1-a146-f4dd59962adc",
   "metadata": {},
   "outputs": [],
   "source": []
  },
  {
   "cell_type": "code",
   "execution_count": 8,
   "id": "ef530ba2-6a37-48b2-9d27-d8ac044d4e7a",
   "metadata": {},
   "outputs": [],
   "source": [
    "# O(n*n)\n",
    "def myfunc2(l):\n",
    "    count = [0]*(len(l))\n",
    "    for i in range(len(l)):\n",
    "        for j in range(len(l)):\n",
    "            if l[i] == l[j]:\n",
    "                count[i] += 1\n",
    "    print(l[count.index(1)])"
   ]
  },
  {
   "cell_type": "code",
   "execution_count": 10,
   "id": "07ea3c58-0284-49da-b5a4-1f684607a549",
   "metadata": {},
   "outputs": [
    {
     "name": "stdout",
     "output_type": "stream",
     "text": [
      "12\n"
     ]
    }
   ],
   "source": [
    "myfunc2([4,8,4,2,13,8,12,13,2])"
   ]
  },
  {
   "cell_type": "code",
   "execution_count": null,
   "id": "5a87952f-b28e-472e-9d11-2db894cfcc30",
   "metadata": {},
   "outputs": [],
   "source": []
  },
  {
   "cell_type": "code",
   "execution_count": 37,
   "id": "3252a4ec-5bc3-424a-b47a-29e21e7c4b05",
   "metadata": {},
   "outputs": [],
   "source": [
    "# O(n)\n",
    "def myfunc3(l):\n",
    "    unique_num = set(l)\n",
    "    double = list(unique_num)*2\n",
    "    for i in l:\n",
    "        double.remove(i)\n",
    "    print(double)"
   ]
  },
  {
   "cell_type": "code",
   "execution_count": 40,
   "id": "d495b376-206c-4b5f-b891-0ccfba31088c",
   "metadata": {},
   "outputs": [
    {
     "name": "stdout",
     "output_type": "stream",
     "text": [
      "[5]\n"
     ]
    }
   ],
   "source": [
    "myfunc3([1,4,6,7,5,4,6,1,7])"
   ]
  },
  {
   "cell_type": "code",
   "execution_count": null,
   "id": "303f8730-47b9-4a07-b872-e7cdbe57d6ec",
   "metadata": {},
   "outputs": [],
   "source": []
  }
 ],
 "metadata": {
  "kernelspec": {
   "display_name": "Python 3 (ipykernel)",
   "language": "python",
   "name": "python3"
  },
  "language_info": {
   "codemirror_mode": {
    "name": "ipython",
    "version": 3
   },
   "file_extension": ".py",
   "mimetype": "text/x-python",
   "name": "python",
   "nbconvert_exporter": "python",
   "pygments_lexer": "ipython3",
   "version": "3.9.12"
  }
 },
 "nbformat": 4,
 "nbformat_minor": 5
}

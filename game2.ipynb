{
 "cells": [
  {
   "cell_type": "code",
   "execution_count": null,
   "id": "809ada66-110e-4ba9-823b-f6afd6d0d478",
   "metadata": {},
   "outputs": [],
   "source": [
    "# range: 1-99 (inclusive)\n",
    "# system generate answer -> randon number\n",
    "# user input 1 number, check number within range\n",
    "# check input match answer or ont"
   ]
  },
  {
   "cell_type": "code",
   "execution_count": null,
   "id": "af2246c5-0d7f-4d23-8755-586ef9b7dbb9",
   "metadata": {},
   "outputs": [],
   "source": []
  },
  {
   "cell_type": "code",
   "execution_count": null,
   "id": "20089c2e-c8a6-43c2-a173-ef5af4b90691",
   "metadata": {},
   "outputs": [],
   "source": [
    "import random\n",
    "random.randint(1,99)"
   ]
  },
  {
   "cell_type": "code",
   "execution_count": 18,
   "id": "a99d9e2e",
   "metadata": {},
   "outputs": [],
   "source": [
    "def player_input(start_num, end_num):\n",
    "    while True:\n",
    "        PI = input('Please guess the number from {} to {}:'.format(start_num, end_num))\n",
    "        if PI.isdigit() and start_num <= int(PI) <= end_num:\n",
    "            return int(PI)\n",
    "            break\n",
    "\n",
    "\n",
    "def game2():\n",
    "    import random\n",
    "    a = random.randint(1, 99)\n",
    "    (start_num, end_num) = (1, 99)\n",
    "    PI = player_input(start_num , end_num)\n",
    "    \n",
    "    while True:\n",
    "        if PI < a <= end_num:\n",
    "            start_num = PI\n",
    "            PI = player_input(start_num , end_num)\n",
    "        elif start_num <= a < PI:\n",
    "            end_num = PI\n",
    "            PI = player_input(start_num , end_num)\n",
    "        elif PI == a:\n",
    "            break\n",
    "\n",
    "    print('Bingo! The number is {}.'.format(a))"
   ]
  },
  {
   "cell_type": "code",
   "execution_count": 5,
   "id": "869e7b3b",
   "metadata": {},
   "outputs": [
    {
     "name": "stdin",
     "output_type": "stream",
     "text": [
      "Please guess the number from 5 to 80: dvg\n",
      "Please guess the number from 5 to 80: 444\n",
      "Please guess the number from 5 to 80: 53\n"
     ]
    }
   ],
   "source": [
    "player_input(5,80)"
   ]
  },
  {
   "cell_type": "code",
   "execution_count": 19,
   "id": "833ae538",
   "metadata": {},
   "outputs": [
    {
     "name": "stdin",
     "output_type": "stream",
     "text": [
      "Please guess the number from 1 to 99: 55\n",
      "Please guess the number from 55 to 99: 66\n",
      "Please guess the number from 66 to 99: 77\n",
      "Please guess the number from 77 to 99: 88\n",
      "Please guess the number from 88 to 99: 90\n",
      "Please guess the number from 90 to 99: 91\n",
      "Please guess the number from 91 to 99: 95\n"
     ]
    },
    {
     "name": "stdout",
     "output_type": "stream",
     "text": [
      "Bingo! The number is 95.\n"
     ]
    }
   ],
   "source": [
    "game2()"
   ]
  },
  {
   "cell_type": "code",
   "execution_count": 14,
   "id": "b095fb79",
   "metadata": {},
   "outputs": [
    {
     "name": "stdin",
     "output_type": "stream",
     "text": [
      "Please guess the number from 1 to 99: 44\n"
     ]
    },
    {
     "name": "stdout",
     "output_type": "stream",
     "text": [
      "None\n"
     ]
    }
   ],
   "source": [
    "ptint()"
   ]
  }
 ],
 "metadata": {
  "kernelspec": {
   "display_name": "Python 3 (ipykernel)",
   "language": "python",
   "name": "python3"
  },
  "language_info": {
   "codemirror_mode": {
    "name": "ipython",
    "version": 3
   },
   "file_extension": ".py",
   "mimetype": "text/x-python",
   "name": "python",
   "nbconvert_exporter": "python",
   "pygments_lexer": "ipython3",
   "version": "3.9.12"
  }
 },
 "nbformat": 4,
 "nbformat_minor": 5
}

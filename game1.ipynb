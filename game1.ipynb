{
 "cells": [
  {
   "cell_type": "code",
   "execution_count": null,
   "id": "b6ea22f1-906c-4ec5-98d1-9b24cf1cfd84",
   "metadata": {},
   "outputs": [],
   "source": [
    "# Game: Rock paper scissors\n",
    "# A program to play Rock paper scissors with the computer.\n",
    "# define rules: paper > rock, etc. \n",
    "# computer random generate one choice\n",
    "# player input\n",
    "# get result from rules, return a win / lose / draw\n",
    "# counter of how many times player win / lose\n",
    "# play 3 rounds, if draw not count\n"
   ]
  },
  {
   "cell_type": "code",
   "execution_count": null,
   "id": "2f982427-48ad-49bf-a8b9-32a7218b769f",
   "metadata": {},
   "outputs": [],
   "source": [
    "# play rock paper scissors, 3 rounds\n",
    "# round 1\n",
    "# get input from player...\n",
    "\n"
   ]
  },
  {
   "cell_type": "code",
   "execution_count": 7,
   "id": "470c72b8-adab-46d8-91fe-a66ea2bf98d2",
   "metadata": {},
   "outputs": [],
   "source": [
    "def game():\n",
    "    player_score, computer_score, round_num = (0,0,1)\n",
    "    \n",
    "    for i in range(3):\n",
    "        while True:\n",
    "            while True:\n",
    "                player_input = input('Round {}, please choose rock, paper or scissors:'.format(round_num))\n",
    "                if player_input == 'rock' or player_input == 'paper' or player_input == 'scissors':\n",
    "                    break\n",
    "\n",
    "            import random\n",
    "            computer = random.choice(['rock', 'paper' ,'scissors'])\n",
    "            \n",
    "            result=0\n",
    "            if player_input == 'rock' and computer == 'rock':\n",
    "                print('Round {}, you are {}, computer is {}, Draw, let us play again.'.format(round_num, player_input, computer)) \n",
    "                result = 'Draw'\n",
    "            elif player_input == 'rock' and computer == 'paper':\n",
    "                print('Round {}, you are {}, computer is {}, You lose!'.format(round_num, player_input, computer))\n",
    "                computer_score += 1\n",
    "            elif player_input == 'rock' and computer == 'scissors':\n",
    "                print('Round {}, you are {}, computer is {}, You win!'.format(round_num, player_input, computer))\n",
    "                player_score += 1\n",
    "\n",
    "            elif player_input == 'paper' and computer == 'rock':\n",
    "                print('Round {}, you are {}, computer is {}, You win!'.format(round_num, player_input, computer))\n",
    "                player_score += 1\n",
    "            elif player_input == 'paper' and computer == 'paper':\n",
    "                result = 'Draw'\n",
    "                print('Round {}, you are {}, computer is {}, draw, let us play again.'.format(round_num, player_input, computer))\n",
    "            elif player_input == 'paper' and computer == 'scissors':\n",
    "                print('Round {}, you are {}, computer is {}, You lose!'.format(round_num, player_input, computer))\n",
    "                computer_score += 1\n",
    "\n",
    "            elif player_input == 'scissors' and computer == 'rock':\n",
    "                print('Round {}, you are {}, computer is {}, You lose!'.format(round_num, player_input, computer))\n",
    "                computer_score += 1\n",
    "            elif player_input == 'scissors' and computer == 'paper':\n",
    "                print('Round {}, you are {}, computer is {}, You win!'.format(round_num, player_input, computer))\n",
    "                player_score += 1\n",
    "            elif player_input == 'scissors' and computer == 'scissors':\n",
    "                result = 'Draw'\n",
    "                print('Round {}, you are {}, computer is {}, Draw, let us play again.'.format(round_num, player_input, computer))\n",
    "            if result == 0:\n",
    "                break\n",
    "                \n",
    "        print('Your total score is {}, computer total score is {}' .format(player_score, computer_score))\n",
    "        round_num += 1\n",
    "        i += 1\n",
    "        \n",
    "    if player_score > computer_score:\n",
    "        print('Finally, you win!')\n",
    "    else:\n",
    "        print('Finally, you lose!')\n",
    "        \n"
   ]
  },
  {
   "cell_type": "code",
   "execution_count": null,
   "id": "7bc1d176-8e97-418c-bf49-2da346cc4541",
   "metadata": {},
   "outputs": [],
   "source": []
  },
  {
   "cell_type": "code",
   "execution_count": null,
   "id": "346e177f-bdb6-484c-8481-85211d80ec4e",
   "metadata": {
    "jupyter": {
     "source_hidden": true
    },
    "tags": []
   },
   "outputs": [],
   "source": []
  }
 ],
 "metadata": {
  "kernelspec": {
   "display_name": "Python 3 (ipykernel)",
   "language": "python",
   "name": "python3"
  },
  "language_info": {
   "codemirror_mode": {
    "name": "ipython",
    "version": 3
   },
   "file_extension": ".py",
   "mimetype": "text/x-python",
   "name": "python",
   "nbconvert_exporter": "python",
   "pygments_lexer": "ipython3",
   "version": "3.9.12"
  }
 },
 "nbformat": 4,
 "nbformat_minor": 5
}

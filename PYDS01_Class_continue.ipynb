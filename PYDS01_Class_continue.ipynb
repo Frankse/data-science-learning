{
 "cells": [
  {
   "cell_type": "markdown",
   "metadata": {
    "id": "7nD9HhX8UKxi"
   },
   "source": [
    "![Image of Venturenix](http://www.venturenix.com//assets/images/venture-nix-logo.png)"
   ]
  },
  {
   "cell_type": "markdown",
   "metadata": {
    "id": "mf2G69bWUKxj"
   },
   "source": [
    "### Learn Python for Data Science (Part 1)\n",
    "# L01 - Basic Python\n",
    "\n",
    "<font color=grey> by Anthony@Venturenix and Gawain@Venturenix</font>\n",
    "<br><br>"
   ]
  },
  {
   "cell_type": "markdown",
   "metadata": {
    "id": "99Ub8JeGVWsH"
   },
   "source": [
    "## Learning objectives\n",
    "\n",
    "1. **Introduction and Setup**\n",
    "\n",
    "> - Install Anaconda distribution for Python 3 and understand the python environment (e.g. Python with Jupyter)\n",
    "\n",
    "2. **Python data types**\n",
    "\n",
    ">  - Learn the basic data types in Python \n",
    "and their key differences. Learn to apply the right data type in different scenario. (e.g. 0 vs \"00000\") \n",
    "\n",
    "\n",
    "3. **Variable assignments** \n",
    "\n",
    "> -  Learn how data storing works in python. A variable is used to data that will be used by the program which can be string, interger etc.\n",
    "\n",
    "4. **Operators**\n",
    "\n",
    "> - Understand how to do the basic operation in python. After this session, you should be able to find out the answer of 232+3432 with python.  \n",
    "\n",
    "5. **Control flow**\n",
    "\n",
    "> - Build your decision making logic into your code by using if-else statements and make use of your knowledge in operators.\n",
    "\n",
    "6. **Functions**\n",
    "\n",
    "> - Learn to build reusable code in Python. 4 Keys concepts: Define, Parameters, Return and Call the function. \n"
   ]
  },
  {
   "cell_type": "markdown",
   "metadata": {
    "id": "VemxL9xiU59S"
   },
   "source": [
    "## House rules\n",
    "- Q%A template in slack\n",
    "- Homework mechanism -> Thur deliver ans"
   ]
  },
  {
   "cell_type": "markdown",
   "metadata": {
    "id": "_WfEbQIJVO1T"
   },
   "source": [
    "## Github\n",
    "Please check out our github for latest update on resources (e.g. Reading Material, Cheatsheet) \n",
    "\n",
    "https://github.com/anthonyhplo/data_science_course"
   ]
  },
  {
   "cell_type": "markdown",
   "metadata": {
    "id": "smxj__afUKxk"
   },
   "source": [
    "# 2. Variable/Data type\n",
    "Declaring variables is the process to reserve memory locations to store values. Similar to other programming language (like Java, C++), you can define a variable from different type to store numbers and characters.\n",
    "\n",
    "## Assiging values to variables\n",
    "In Python, you don't have to expliclty declare data type. The declaration happens when you assign a value to a variable automatically. "
   ]
  },
  {
   "cell_type": "code",
   "execution_count": null,
   "metadata": {
    "id": "4SORBszYUKxl"
   },
   "outputs": [],
   "source": [
    "="
   ]
  },
  {
   "cell_type": "code",
   "execution_count": 1,
   "metadata": {
    "id": "_tfgheENUKxl"
   },
   "outputs": [],
   "source": [
    "a = 1"
   ]
  },
  {
   "cell_type": "code",
   "execution_count": 2,
   "metadata": {},
   "outputs": [
    {
     "name": "stdout",
     "output_type": "stream",
     "text": [
      "1\n"
     ]
    }
   ],
   "source": [
    "print(a)"
   ]
  },
  {
   "cell_type": "code",
   "execution_count": 3,
   "metadata": {},
   "outputs": [],
   "source": [
    "aaa = 1000"
   ]
  },
  {
   "cell_type": "code",
   "execution_count": 4,
   "metadata": {},
   "outputs": [
    {
     "name": "stdout",
     "output_type": "stream",
     "text": [
      "1000\n"
     ]
    }
   ],
   "source": [
    "print(aaa)"
   ]
  },
  {
   "cell_type": "code",
   "execution_count": 5,
   "metadata": {},
   "outputs": [],
   "source": [
    "abc = 'Hello World!'"
   ]
  },
  {
   "cell_type": "code",
   "execution_count": 6,
   "metadata": {},
   "outputs": [
    {
     "name": "stdout",
     "output_type": "stream",
     "text": [
      "Hello World!\n"
     ]
    }
   ],
   "source": [
    "print(abc)"
   ]
  },
  {
   "cell_type": "code",
   "execution_count": 7,
   "metadata": {},
   "outputs": [],
   "source": [
    "abc = 'Hello World Wayne!'"
   ]
  },
  {
   "cell_type": "code",
   "execution_count": 8,
   "metadata": {},
   "outputs": [
    {
     "name": "stdout",
     "output_type": "stream",
     "text": [
      "Hello World Wayne!\n"
     ]
    }
   ],
   "source": [
    "print(abc)"
   ]
  },
  {
   "cell_type": "code",
   "execution_count": 9,
   "metadata": {},
   "outputs": [
    {
     "name": "stdout",
     "output_type": "stream",
     "text": [
      "999\n"
     ]
    }
   ],
   "source": [
    "abc = 999\n",
    "print(abc)"
   ]
  },
  {
   "cell_type": "code",
   "execution_count": null,
   "metadata": {},
   "outputs": [],
   "source": []
  },
  {
   "cell_type": "markdown",
   "metadata": {
    "id": "bL-cWNjdUKxl"
   },
   "source": [
    "### Integers\n",
    "Integer type stores while range of number (postive or negative) with no decimal place. In Python 3, Integer is unlimied in size while in Python 2 is seprated into 'int' and 'long'."
   ]
  },
  {
   "cell_type": "code",
   "execution_count": null,
   "metadata": {
    "id": "WSLDIJdUUKxm"
   },
   "outputs": [],
   "source": [
    "# int a = 1; <----JAVA\n",
    "# double b = 1.1 <----JAVA\n",
    "# a = 1 <----PYTHON\n",
    "\n",
    "# CPU -> i7, i5\n",
    "# Memory (RAM) -> 8GB, 16GB\n",
    "# [001111.................]\n",
    "# 0111\n",
    "# [int(1)b........]\n",
    "# HDD -> 1TB"
   ]
  },
  {
   "cell_type": "code",
   "execution_count": 10,
   "metadata": {
    "id": "SU2H5r5Cwl3Y"
   },
   "outputs": [],
   "source": [
    "a = 1"
   ]
  },
  {
   "cell_type": "code",
   "execution_count": 11,
   "metadata": {},
   "outputs": [
    {
     "data": {
      "text/plain": [
       "int"
      ]
     },
     "execution_count": 11,
     "metadata": {},
     "output_type": "execute_result"
    }
   ],
   "source": [
    "type(a)"
   ]
  },
  {
   "cell_type": "code",
   "execution_count": 14,
   "metadata": {},
   "outputs": [
    {
     "data": {
      "text/plain": [
       "int"
      ]
     },
     "execution_count": 14,
     "metadata": {},
     "output_type": "execute_result"
    }
   ],
   "source": [
    "type(1)"
   ]
  },
  {
   "cell_type": "code",
   "execution_count": 12,
   "metadata": {},
   "outputs": [
    {
     "name": "stdout",
     "output_type": "stream",
     "text": [
      "1\n"
     ]
    }
   ],
   "source": [
    "print(a)"
   ]
  },
  {
   "cell_type": "code",
   "execution_count": 13,
   "metadata": {},
   "outputs": [
    {
     "name": "stdout",
     "output_type": "stream",
     "text": [
      "1\n"
     ]
    }
   ],
   "source": [
    "print(1)"
   ]
  },
  {
   "cell_type": "markdown",
   "metadata": {
    "id": "_HSgpa5yUKxo"
   },
   "source": [
    "\n",
    "*Note: In Python 2, integer division performs floor division instead of converting the ints to floats as we see here in Python 3, so 1/3 would return 0 instead of 0.3333333."
   ]
  },
  {
   "cell_type": "markdown",
   "metadata": {
    "id": "dzR5ZzNGUKxp"
   },
   "source": [
    "### Floats\n",
    "\n",
    "Floating point numbers or \"floats\" are numbers with decimal values. It may also be in scientiific notation."
   ]
  },
  {
   "cell_type": "code",
   "execution_count": 1,
   "metadata": {
    "executionInfo": {
     "elapsed": 5,
     "status": "ok",
     "timestamp": 1622218587383,
     "user": {
      "displayName": "Gawain Chin",
      "photoUrl": "https://lh3.googleusercontent.com/a-/AOh14Gj90OdQJBrJ0unU6HssJVP6TlbYPnXtYvcBpOazOw=s64",
      "userId": "07582472287713846748"
     },
     "user_tz": -480
    },
    "id": "3Wcp3RUYwo_9"
   },
   "outputs": [],
   "source": [
    "#Difference with Float and Int"
   ]
  },
  {
   "cell_type": "code",
   "execution_count": 15,
   "metadata": {},
   "outputs": [
    {
     "data": {
      "text/plain": [
       "int"
      ]
     },
     "execution_count": 15,
     "metadata": {},
     "output_type": "execute_result"
    }
   ],
   "source": [
    "a = 1\n",
    "type(1)"
   ]
  },
  {
   "cell_type": "code",
   "execution_count": 16,
   "metadata": {},
   "outputs": [
    {
     "data": {
      "text/plain": [
       "float"
      ]
     },
     "execution_count": 16,
     "metadata": {},
     "output_type": "execute_result"
    }
   ],
   "source": [
    "b = 1.1\n",
    "type(b)"
   ]
  },
  {
   "cell_type": "code",
   "execution_count": 17,
   "metadata": {},
   "outputs": [
    {
     "name": "stdout",
     "output_type": "stream",
     "text": [
      "1.1\n"
     ]
    }
   ],
   "source": [
    "print(b)"
   ]
  },
  {
   "cell_type": "code",
   "execution_count": 18,
   "metadata": {},
   "outputs": [],
   "source": [
    "c = 1.0"
   ]
  },
  {
   "cell_type": "code",
   "execution_count": 20,
   "metadata": {},
   "outputs": [
    {
     "data": {
      "text/plain": [
       "float"
      ]
     },
     "execution_count": 20,
     "metadata": {},
     "output_type": "execute_result"
    }
   ],
   "source": [
    "type(c)"
   ]
  },
  {
   "cell_type": "code",
   "execution_count": 19,
   "metadata": {},
   "outputs": [
    {
     "name": "stdout",
     "output_type": "stream",
     "text": [
      "1.0\n"
     ]
    }
   ],
   "source": [
    "print(c)"
   ]
  },
  {
   "cell_type": "code",
   "execution_count": 21,
   "metadata": {},
   "outputs": [
    {
     "name": "stdout",
     "output_type": "stream",
     "text": [
      "1\n"
     ]
    }
   ],
   "source": [
    "c = 1\n",
    "print(c)"
   ]
  },
  {
   "cell_type": "code",
   "execution_count": 22,
   "metadata": {},
   "outputs": [
    {
     "data": {
      "text/plain": [
       "int"
      ]
     },
     "execution_count": 22,
     "metadata": {},
     "output_type": "execute_result"
    }
   ],
   "source": [
    "type(c)"
   ]
  },
  {
   "cell_type": "code",
   "execution_count": 23,
   "metadata": {},
   "outputs": [],
   "source": [
    "a = 1\n",
    "b = 2\n",
    "c = a + b"
   ]
  },
  {
   "cell_type": "code",
   "execution_count": 24,
   "metadata": {},
   "outputs": [
    {
     "name": "stdout",
     "output_type": "stream",
     "text": [
      "3\n"
     ]
    }
   ],
   "source": [
    "print(c)"
   ]
  },
  {
   "cell_type": "code",
   "execution_count": 25,
   "metadata": {},
   "outputs": [],
   "source": [
    "a = 1.0\n",
    "b = 2\n",
    "c = a + b"
   ]
  },
  {
   "cell_type": "code",
   "execution_count": 26,
   "metadata": {},
   "outputs": [
    {
     "data": {
      "text/plain": [
       "float"
      ]
     },
     "execution_count": 26,
     "metadata": {},
     "output_type": "execute_result"
    }
   ],
   "source": [
    "type(c)"
   ]
  },
  {
   "cell_type": "code",
   "execution_count": 27,
   "metadata": {},
   "outputs": [
    {
     "name": "stdout",
     "output_type": "stream",
     "text": [
      "3.0\n"
     ]
    }
   ],
   "source": [
    "print(c)"
   ]
  },
  {
   "cell_type": "markdown",
   "metadata": {
    "id": "NBTUT2fPUKxq"
   },
   "source": [
    "### Booleans\n",
    "\n",
    "Booleans are 'True'/'False' values that result from logical statements."
   ]
  },
  {
   "cell_type": "code",
   "execution_count": 65,
   "metadata": {},
   "outputs": [
    {
     "data": {
      "text/plain": [
       "True"
      ]
     },
     "execution_count": 65,
     "metadata": {},
     "output_type": "execute_result"
    }
   ],
   "source": [
    "True"
   ]
  },
  {
   "cell_type": "code",
   "execution_count": 66,
   "metadata": {},
   "outputs": [
    {
     "data": {
      "text/plain": [
       "False"
      ]
     },
     "execution_count": 66,
     "metadata": {},
     "output_type": "execute_result"
    }
   ],
   "source": [
    "False"
   ]
  },
  {
   "cell_type": "code",
   "execution_count": 67,
   "metadata": {},
   "outputs": [
    {
     "data": {
      "text/plain": [
       "bool"
      ]
     },
     "execution_count": 67,
     "metadata": {},
     "output_type": "execute_result"
    }
   ],
   "source": [
    "b = True\n",
    "type(b)"
   ]
  },
  {
   "cell_type": "markdown",
   "metadata": {
    "id": "zhK9KhgNUKxr"
   },
   "source": [
    "### String\n",
    "String is the most popular data type in Python. You can define str using single quote or double quote, Python treat them the same."
   ]
  },
  {
   "cell_type": "code",
   "execution_count": 2,
   "metadata": {
    "executionInfo": {
     "elapsed": 627,
     "status": "ok",
     "timestamp": 1622218611557,
     "user": {
      "displayName": "Gawain Chin",
      "photoUrl": "https://lh3.googleusercontent.com/a-/AOh14Gj90OdQJBrJ0unU6HssJVP6TlbYPnXtYvcBpOazOw=s64",
      "userId": "07582472287713846748"
     },
     "user_tz": -480
    },
    "id": "Hlt7nHDvUKxr"
   },
   "outputs": [],
   "source": [
    "#String Assignment"
   ]
  },
  {
   "cell_type": "code",
   "execution_count": 28,
   "metadata": {},
   "outputs": [],
   "source": [
    "a1 = 12345\n",
    "a2 = '12345'"
   ]
  },
  {
   "cell_type": "code",
   "execution_count": 29,
   "metadata": {},
   "outputs": [
    {
     "data": {
      "text/plain": [
       "int"
      ]
     },
     "execution_count": 29,
     "metadata": {},
     "output_type": "execute_result"
    }
   ],
   "source": [
    "type(a1)"
   ]
  },
  {
   "cell_type": "code",
   "execution_count": 30,
   "metadata": {},
   "outputs": [
    {
     "data": {
      "text/plain": [
       "str"
      ]
     },
     "execution_count": 30,
     "metadata": {},
     "output_type": "execute_result"
    }
   ],
   "source": [
    "type(a2)"
   ]
  },
  {
   "cell_type": "code",
   "execution_count": 32,
   "metadata": {},
   "outputs": [
    {
     "name": "stdout",
     "output_type": "stream",
     "text": [
      "1250 jhdsiogjre 23940-=-;][.\n"
     ]
    }
   ],
   "source": [
    "a3 = '1250 jhdsiogjre 23940-=-;][.'\n",
    "print(a3)"
   ]
  },
  {
   "cell_type": "code",
   "execution_count": 33,
   "metadata": {},
   "outputs": [
    {
     "name": "stdout",
     "output_type": "stream",
     "text": [
      "12345\n"
     ]
    }
   ],
   "source": [
    "a4 = \"12345\"\n",
    "print(a4)"
   ]
  },
  {
   "cell_type": "code",
   "execution_count": 34,
   "metadata": {},
   "outputs": [
    {
     "name": "stdout",
     "output_type": "stream",
     "text": [
      "3\n"
     ]
    }
   ],
   "source": [
    "a = 1\n",
    "b = 2\n",
    "c = a + b\n",
    "print(c)"
   ]
  },
  {
   "cell_type": "code",
   "execution_count": 35,
   "metadata": {},
   "outputs": [],
   "source": [
    "a = '1'\n",
    "b = '2'\n",
    "c = a + b"
   ]
  },
  {
   "cell_type": "code",
   "execution_count": 36,
   "metadata": {},
   "outputs": [
    {
     "name": "stdout",
     "output_type": "stream",
     "text": [
      "12\n"
     ]
    }
   ],
   "source": [
    "print(c)"
   ]
  },
  {
   "cell_type": "code",
   "execution_count": 38,
   "metadata": {},
   "outputs": [
    {
     "data": {
      "text/plain": [
       "'12'"
      ]
     },
     "execution_count": 38,
     "metadata": {},
     "output_type": "execute_result"
    }
   ],
   "source": [
    "# string concatenation\n",
    "'1' + '2'"
   ]
  },
  {
   "cell_type": "code",
   "execution_count": 39,
   "metadata": {},
   "outputs": [
    {
     "data": {
      "text/plain": [
       "str"
      ]
     },
     "execution_count": 39,
     "metadata": {},
     "output_type": "execute_result"
    }
   ],
   "source": [
    "type(c)"
   ]
  },
  {
   "cell_type": "code",
   "execution_count": 40,
   "metadata": {},
   "outputs": [
    {
     "data": {
      "text/plain": [
       "'123abc!'"
      ]
     },
     "execution_count": 40,
     "metadata": {},
     "output_type": "execute_result"
    }
   ],
   "source": [
    "'1' + '2' + '3' + 'abc' + '!'"
   ]
  },
  {
   "cell_type": "code",
   "execution_count": 41,
   "metadata": {},
   "outputs": [
    {
     "data": {
      "text/plain": [
       "'HelloWorldWayne'"
      ]
     },
     "execution_count": 41,
     "metadata": {},
     "output_type": "execute_result"
    }
   ],
   "source": [
    "'Hello' + 'World' + 'Wayne'"
   ]
  },
  {
   "cell_type": "code",
   "execution_count": 42,
   "metadata": {},
   "outputs": [
    {
     "name": "stdout",
     "output_type": "stream",
     "text": [
      "-1\n"
     ]
    }
   ],
   "source": [
    "a = 1\n",
    "b = 2\n",
    "print(a - b)"
   ]
  },
  {
   "cell_type": "code",
   "execution_count": 43,
   "metadata": {},
   "outputs": [
    {
     "ename": "TypeError",
     "evalue": "unsupported operand type(s) for -: 'str' and 'str'",
     "output_type": "error",
     "traceback": [
      "\u001b[0;31m---------------------------------------------------------------------------\u001b[0m",
      "\u001b[0;31mTypeError\u001b[0m                                 Traceback (most recent call last)",
      "Input \u001b[0;32mIn [43]\u001b[0m, in \u001b[0;36m<cell line: 3>\u001b[0;34m()\u001b[0m\n\u001b[1;32m      1\u001b[0m a \u001b[38;5;241m=\u001b[39m \u001b[38;5;124m'\u001b[39m\u001b[38;5;124m1\u001b[39m\u001b[38;5;124m'\u001b[39m\n\u001b[1;32m      2\u001b[0m b \u001b[38;5;241m=\u001b[39m \u001b[38;5;124m'\u001b[39m\u001b[38;5;124m2\u001b[39m\u001b[38;5;124m'\u001b[39m\n\u001b[0;32m----> 3\u001b[0m \u001b[38;5;28mprint\u001b[39m(\u001b[43ma\u001b[49m\u001b[43m \u001b[49m\u001b[38;5;241;43m-\u001b[39;49m\u001b[43m \u001b[49m\u001b[43mb\u001b[49m)\n",
      "\u001b[0;31mTypeError\u001b[0m: unsupported operand type(s) for -: 'str' and 'str'"
     ]
    }
   ],
   "source": [
    "a = '1'\n",
    "b = '2'\n",
    "print(a - b)"
   ]
  },
  {
   "cell_type": "code",
   "execution_count": 4,
   "metadata": {
    "executionInfo": {
     "elapsed": 362,
     "status": "ok",
     "timestamp": 1622218645233,
     "user": {
      "displayName": "Gawain Chin",
      "photoUrl": "https://lh3.googleusercontent.com/a-/AOh14Gj90OdQJBrJ0unU6HssJVP6TlbYPnXtYvcBpOazOw=s64",
      "userId": "07582472287713846748"
     },
     "user_tz": -480
    },
    "id": "SGKxaAF0w_H7"
   },
   "outputs": [],
   "source": [
    "#Input Exercise"
   ]
  },
  {
   "cell_type": "code",
   "execution_count": 44,
   "metadata": {},
   "outputs": [
    {
     "name": "stdout",
     "output_type": "stream",
     "text": [
      "What is your name?\n"
     ]
    }
   ],
   "source": [
    "print('What is your name?')"
   ]
  },
  {
   "cell_type": "code",
   "execution_count": 45,
   "metadata": {},
   "outputs": [
    {
     "name": "stdin",
     "output_type": "stream",
     "text": [
      "What is your name? Wayne\n"
     ]
    },
    {
     "data": {
      "text/plain": [
       "'Wayne'"
      ]
     },
     "execution_count": 45,
     "metadata": {},
     "output_type": "execute_result"
    }
   ],
   "source": [
    "input('What is your name?')"
   ]
  },
  {
   "cell_type": "code",
   "execution_count": 46,
   "metadata": {},
   "outputs": [
    {
     "name": "stdin",
     "output_type": "stream",
     "text": [
      "say something 100\n"
     ]
    },
    {
     "data": {
      "text/plain": [
       "'100'"
      ]
     },
     "execution_count": 46,
     "metadata": {},
     "output_type": "execute_result"
    }
   ],
   "source": [
    "input('say something')"
   ]
  },
  {
   "cell_type": "markdown",
   "metadata": {
    "id": "Ap3MDsd6UKxy"
   },
   "source": [
    "Convert numbers to string and vice versa"
   ]
  },
  {
   "cell_type": "markdown",
   "metadata": {
    "id": "qva9sCXzxL4s"
   },
   "source": [
    "#### Class Excercise"
   ]
  },
  {
   "cell_type": "code",
   "execution_count": null,
   "metadata": {
    "id": "Ac-StpJVUKx0"
   },
   "outputs": [],
   "source": [
    "# ask the first question to get the name\n",
    "# ask the second question to get the age\n",
    "# print greeting \"hello \" + name + age"
   ]
  },
  {
   "cell_type": "raw",
   "metadata": {
    "id": "nVpi7ZHbUKx0"
   },
   "source": [
    "What is your name? Wayne\n",
    "How old are you? 50\n",
    "Hello Wayne 50!"
   ]
  },
  {
   "cell_type": "code",
   "execution_count": 48,
   "metadata": {},
   "outputs": [
    {
     "name": "stdin",
     "output_type": "stream",
     "text": [
      "What is your name Wayne\n"
     ]
    }
   ],
   "source": [
    "name = input('What is your name')"
   ]
  },
  {
   "cell_type": "code",
   "execution_count": 49,
   "metadata": {},
   "outputs": [
    {
     "name": "stdout",
     "output_type": "stream",
     "text": [
      "Wayne\n"
     ]
    }
   ],
   "source": [
    "print(name)"
   ]
  },
  {
   "cell_type": "code",
   "execution_count": null,
   "metadata": {},
   "outputs": [],
   "source": [
    "# same 2 questions\n",
    "# print \"Hello xxx, You will be +5 age!\""
   ]
  },
  {
   "cell_type": "raw",
   "metadata": {},
   "source": [
    "What is your name? Wayne\n",
    "How old are you? 50\n",
    "Hello Wayne, You will be 55!"
   ]
  },
  {
   "cell_type": "code",
   "execution_count": 50,
   "metadata": {},
   "outputs": [
    {
     "name": "stdin",
     "output_type": "stream",
     "text": [
      "How old 50\n"
     ]
    }
   ],
   "source": [
    "age = input('How old')"
   ]
  },
  {
   "cell_type": "code",
   "execution_count": 55,
   "metadata": {},
   "outputs": [
    {
     "data": {
      "text/plain": [
       "50"
      ]
     },
     "execution_count": 55,
     "metadata": {},
     "output_type": "execute_result"
    }
   ],
   "source": [
    "int('50')"
   ]
  },
  {
   "cell_type": "code",
   "execution_count": 52,
   "metadata": {},
   "outputs": [
    {
     "data": {
      "text/plain": [
       "str"
      ]
     },
     "execution_count": 52,
     "metadata": {},
     "output_type": "execute_result"
    }
   ],
   "source": [
    "type(age)"
   ]
  },
  {
   "cell_type": "code",
   "execution_count": null,
   "metadata": {},
   "outputs": [],
   "source": [
    "print('Hello ' + age)"
   ]
  },
  {
   "cell_type": "code",
   "execution_count": null,
   "metadata": {},
   "outputs": [],
   "source": []
  },
  {
   "cell_type": "code",
   "execution_count": 64,
   "metadata": {},
   "outputs": [
    {
     "name": "stdin",
     "output_type": "stream",
     "text": [
      "What is your name? wayne\n",
      "How old are you? 50\n"
     ]
    },
    {
     "name": "stdout",
     "output_type": "stream",
     "text": [
      "Hello wayne 55\n"
     ]
    }
   ],
   "source": [
    "name = input('What is your name?')\n",
    "age = input('How old are you?')\n",
    "age = str(int(age) + 5)\n",
    "print('Hello ' + name + ' ' + age)"
   ]
  },
  {
   "cell_type": "markdown",
   "metadata": {
    "id": "DvONPQpIUKx0"
   },
   "source": [
    "### String operators and Methods\n"
   ]
  },
  {
   "cell_type": "markdown",
   "metadata": {
    "id": "wr58UT4HUKx0"
   },
   "source": [
    "Substring"
   ]
  },
  {
   "cell_type": "code",
   "execution_count": 20,
   "metadata": {
    "id": "sa2aond0xWjz"
   },
   "outputs": [
    {
     "name": "stdout",
     "output_type": "stream",
     "text": [
      "h\n",
      "hello w\n",
      "hello w\n",
      "orld\n",
      "hlow\n",
      "d\n",
      "w\n",
      "worl\n",
      "\n",
      "\n",
      "orld\n",
      "dlrow olleh\n",
      "olleh\n",
      "\n"
     ]
    }
   ],
   "source": [
    "a= 'hello world'\n",
    "print(a[0])\n",
    "print(a[0:7])\n",
    "print(a[:7])\n",
    "print(a[7:])\n",
    "print(a[0:7:2])#隔兩個位取一個字母\n",
    "print(a[-1])\n",
    "print(a[-5])\n",
    "print(a[-5:-1])\n",
    "print(a[-1:-5])\n",
    "print(a[7:0])#沒有輸出\n",
    "print(a[7::])  #same as print(a[7::1])\n",
    "print(a[::-1])\n",
    "print(a[:5][::-1]) #same as print(a[0:4:-1])\n",
    "print(a[0:4:-1])"
   ]
  },
  {
   "cell_type": "code",
   "execution_count": 62,
   "metadata": {},
   "outputs": [
    {
     "name": "stdout",
     "output_type": "stream",
     "text": [
      "Hello frank, age is 50\n",
      "hola, frank\n",
      "my name is frank, age is 50\n",
      "hello frank, age is 50\n"
     ]
    }
   ],
   "source": [
    "# hello xxx, age is xx\n",
    "name = 'frank'\n",
    "age = 50\n",
    "print('Hello {name}, age is {age}' .format(name=name, age=age))\n",
    "print('hola, {n}' .format(n=name))\n",
    "print('my name is {}, age is {}' .format(name, age))\n",
    "print(f'hello {name}, age is {age}') #f-string"
   ]
  },
  {
   "cell_type": "code",
   "execution_count": 34,
   "metadata": {},
   "outputs": [
    {
     "name": "stdout",
     "output_type": "stream",
     "text": [
      "abc@gmail.com\n"
     ]
    }
   ],
   "source": [
    "email='abc@Gmail.Com _'\n",
    "email.lower()\n",
    "email.upper()\n",
    "email.strip(' _')\n",
    "clean_email = email.strip(' _').lower()\n",
    "print(clean_email)"
   ]
  },
  {
   "cell_type": "code",
   "execution_count": 39,
   "metadata": {},
   "outputs": [
    {
     "name": "stdout",
     "output_type": "stream",
     "text": [
      "False\n",
      "False\n",
      "False\n",
      "abc@yahoo.com\n",
      "wbc@gmwil.com\n"
     ]
    }
   ],
   "source": [
    "cleaned_email = 'abc@gmail.com'\n",
    "charecters = 'abadb'\n",
    "spaces = '    '\n",
    "print(cleaned_email.isalpha())\n",
    "print(cleaned_email.isspace())\n",
    "print(cleaned_email.isdigit())\n",
    "print(cleaned_email.replace('gmail', 'yahoo'))\n",
    "print(cleaned_email.replace('a', 'w'))"
   ]
  },
  {
   "cell_type": "code",
   "execution_count": 42,
   "metadata": {},
   "outputs": [
    {
     "name": "stdout",
     "output_type": "stream",
     "text": [
      "['Hello', 'world', '123,', 'today', 'is', 'a', '', 'good', 'day']\n",
      "['abc', 'gmail.com']\n"
     ]
    }
   ],
   "source": [
    "sentence = 'Hello world 123, today is a  good day'\n",
    "print(sentence.split(' '))\n",
    "print(cleaned_email.split('@'))"
   ]
  },
  {
   "cell_type": "code",
   "execution_count": null,
   "metadata": {},
   "outputs": [],
   "source": []
  },
  {
   "cell_type": "code",
   "execution_count": null,
   "metadata": {},
   "outputs": [],
   "source": []
  },
  {
   "cell_type": "code",
   "execution_count": null,
   "metadata": {},
   "outputs": [],
   "source": []
  },
  {
   "cell_type": "code",
   "execution_count": null,
   "metadata": {},
   "outputs": [],
   "source": []
  },
  {
   "cell_type": "markdown",
   "metadata": {
    "id": "4Du6LS55UKx1"
   },
   "source": [
    "String formatting"
   ]
  },
  {
   "cell_type": "code",
   "execution_count": null,
   "metadata": {
    "id": "0cnbQdn7UKx1"
   },
   "outputs": [],
   "source": [
    "# %s => str\n",
    "# %d => int\n",
    "# %f => float"
   ]
  },
  {
   "cell_type": "markdown",
   "metadata": {
    "id": "eJXpWHdZybcG"
   },
   "source": [
    "String methods\n",
    "\n",
    "- s.lower(), s.upper() -- returns the lowercase or uppercase version of the string\n",
    "- s.strip() -- returns a string with whitespace removed from the start and end\n",
    "- s.isalpha()/s.isdigit()/s.isspace()... -- tests if all the string chars are in the various character classes\n",
    "- s.replace('old', 'new') -- returns a string where all occurrences of 'old' have been replaced by 'new'\n",
    "- s.split(',') -- returns a list of substrings separated by the given delimiter. The delimiter is not a regular expression, it's just text. 'aaa,bbb,ccc'.split(',') -> ['aaa', 'bbb', 'ccc']."
   ]
  },
  {
   "cell_type": "code",
   "execution_count": null,
   "metadata": {
    "id": "KWvjbWzgxXOf"
   },
   "outputs": [],
   "source": []
  },
  {
   "cell_type": "markdown",
   "metadata": {
    "id": "Vjdpve0PUKx1"
   },
   "source": [
    "### None type\n",
    "\"None\" is a special data type that often used to represent a missing value a function's empty return"
   ]
  },
  {
   "cell_type": "code",
   "execution_count": null,
   "metadata": {
    "id": "vv043cG_V3C0"
   },
   "outputs": [],
   "source": [
    "## Variable cast"
   ]
  },
  {
   "cell_type": "code",
   "execution_count": null,
   "metadata": {
    "id": "rBGODLchUKx2"
   },
   "outputs": [],
   "source": [
    "int, str, float, bool, None"
   ]
  },
  {
   "cell_type": "code",
   "execution_count": null,
   "metadata": {
    "id": "iVZEKnbkUKx2"
   },
   "outputs": [],
   "source": []
  },
  {
   "cell_type": "markdown",
   "metadata": {
    "id": "fd8UWpJ1UKx2"
   },
   "source": [
    "# 3. Variable assigment"
   ]
  },
  {
   "cell_type": "markdown",
   "metadata": {
    "id": "om_yqNY3UKx2"
   },
   "source": [
    "### Single assignment"
   ]
  },
  {
   "cell_type": "code",
   "execution_count": 70,
   "metadata": {
    "id": "SI_mwC9aUKx3"
   },
   "outputs": [],
   "source": [
    "a = 1\n",
    "b = '123'\n",
    "c = True"
   ]
  },
  {
   "cell_type": "code",
   "execution_count": 71,
   "metadata": {},
   "outputs": [],
   "source": [
    "a=1\n",
    "b='123'\n",
    "c=True"
   ]
  },
  {
   "cell_type": "markdown",
   "metadata": {
    "id": "D873tG8dUKx4",
    "tags": []
   },
   "source": [
    "### Multiple assigment"
   ]
  },
  {
   "cell_type": "code",
   "execution_count": 73,
   "metadata": {},
   "outputs": [
    {
     "name": "stdout",
     "output_type": "stream",
     "text": [
      "1\n",
      "2\n",
      "3\n",
      "a b c\n"
     ]
    }
   ],
   "source": [
    "a1, a2, a3 = 1, 2, 3\n",
    "b1,b2,b3 = 'a', 'b', 'c'\n",
    "print(a1)\n",
    "print(a2)\n",
    "print(a3)\n",
    "print(b1, b2, b3)"
   ]
  },
  {
   "cell_type": "code",
   "execution_count": 74,
   "metadata": {},
   "outputs": [],
   "source": [
    "c1, c2, c3 = 1, 'b', True"
   ]
  },
  {
   "cell_type": "code",
   "execution_count": 75,
   "metadata": {},
   "outputs": [
    {
     "ename": "ValueError",
     "evalue": "too many values to unpack (expected 2)",
     "output_type": "error",
     "traceback": [
      "\u001b[0;31m---------------------------------------------------------------------------\u001b[0m",
      "\u001b[0;31mValueError\u001b[0m                                Traceback (most recent call last)",
      "Input \u001b[0;32mIn [75]\u001b[0m, in \u001b[0;36m<cell line: 1>\u001b[0;34m()\u001b[0m\n\u001b[0;32m----> 1\u001b[0m d1, d2 \u001b[38;5;241m=\u001b[39m \u001b[38;5;241m4\u001b[39m, \u001b[38;5;241m5\u001b[39m, \u001b[38;5;241m6\u001b[39m\n",
      "\u001b[0;31mValueError\u001b[0m: too many values to unpack (expected 2)"
     ]
    }
   ],
   "source": [
    "d1, d2 = 4, 5, 6"
   ]
  },
  {
   "cell_type": "markdown",
   "metadata": {
    "id": "PIW1fXXtUKx5"
   },
   "source": [
    "# 4. Operators"
   ]
  },
  {
   "cell_type": "markdown",
   "metadata": {
    "id": "7tFC6AdmUKx5"
   },
   "source": [
    "### Arithmetic operators"
   ]
  },
  {
   "cell_type": "code",
   "execution_count": 5,
   "metadata": {
    "executionInfo": {
     "elapsed": 240,
     "status": "ok",
     "timestamp": 1622218784786,
     "user": {
      "displayName": "Gawain Chin",
      "photoUrl": "https://lh3.googleusercontent.com/a-/AOh14Gj90OdQJBrJ0unU6HssJVP6TlbYPnXtYvcBpOazOw=s64",
      "userId": "07582472287713846748"
     },
     "user_tz": -480
    },
    "id": "wI7RwGAGUKx5"
   },
   "outputs": [],
   "source": [
    "#Addition\n",
    "#Subtraction\n",
    "#Multiplication\n",
    "#Division\n",
    "# Modulus\n",
    "# Exponent"
   ]
  },
  {
   "cell_type": "markdown",
   "metadata": {
    "id": "ocmr8Sd-UKx7"
   },
   "source": [
    "b += a is quivalent to b = b + a"
   ]
  },
  {
   "cell_type": "code",
   "execution_count": 76,
   "metadata": {},
   "outputs": [
    {
     "name": "stdout",
     "output_type": "stream",
     "text": [
      "3\n"
     ]
    }
   ],
   "source": [
    "a = 1\n",
    "b = 2\n",
    "b = b + a\n",
    "print(b)"
   ]
  },
  {
   "cell_type": "code",
   "execution_count": 78,
   "metadata": {
    "id": "--TZzfoeUKx8"
   },
   "outputs": [
    {
     "name": "stdout",
     "output_type": "stream",
     "text": [
      "3\n"
     ]
    }
   ],
   "source": [
    "a = 1\n",
    "b = 2\n",
    "b += a\n",
    "print(b)"
   ]
  },
  {
   "cell_type": "code",
   "execution_count": 80,
   "metadata": {},
   "outputs": [
    {
     "name": "stdout",
     "output_type": "stream",
     "text": [
      "6\n"
     ]
    }
   ],
   "source": [
    "a = 5\n",
    "a += 1\n",
    "# same as a = a + 1\n",
    "print(a)"
   ]
  },
  {
   "cell_type": "code",
   "execution_count": 81,
   "metadata": {},
   "outputs": [],
   "source": [
    "a = 9\n",
    "b = 3"
   ]
  },
  {
   "cell_type": "code",
   "execution_count": 82,
   "metadata": {},
   "outputs": [
    {
     "name": "stdout",
     "output_type": "stream",
     "text": [
      "6\n",
      "27\n",
      "3.0\n"
     ]
    }
   ],
   "source": [
    "print(a - b)\n",
    "print(a * b)\n",
    "print(a / b)"
   ]
  },
  {
   "cell_type": "code",
   "execution_count": 83,
   "metadata": {},
   "outputs": [
    {
     "name": "stdout",
     "output_type": "stream",
     "text": [
      "0\n"
     ]
    }
   ],
   "source": [
    "print(a % b)"
   ]
  },
  {
   "cell_type": "code",
   "execution_count": 84,
   "metadata": {},
   "outputs": [
    {
     "name": "stdout",
     "output_type": "stream",
     "text": [
      "1\n"
     ]
    }
   ],
   "source": [
    "print(9 % 4)"
   ]
  },
  {
   "cell_type": "code",
   "execution_count": 86,
   "metadata": {},
   "outputs": [
    {
     "name": "stdout",
     "output_type": "stream",
     "text": [
      "3\n"
     ]
    }
   ],
   "source": [
    "print(a // b)"
   ]
  },
  {
   "cell_type": "code",
   "execution_count": 87,
   "metadata": {},
   "outputs": [
    {
     "name": "stdout",
     "output_type": "stream",
     "text": [
      "2\n"
     ]
    }
   ],
   "source": [
    "print(9 // 4)"
   ]
  },
  {
   "cell_type": "code",
   "execution_count": 85,
   "metadata": {},
   "outputs": [
    {
     "name": "stdout",
     "output_type": "stream",
     "text": [
      "729\n"
     ]
    }
   ],
   "source": [
    "print(a ** b)  # 9^3 = 9 * 9 * 9"
   ]
  },
  {
   "cell_type": "markdown",
   "metadata": {
    "id": "Gm5qLUQ_UKx8"
   },
   "source": [
    "The can be apply to any arithmetic operators\n",
    "* Add AND: +=\n",
    "* Subtract AND: -=\n",
    "* Multiply AND: *=\n",
    "* Divide AND: /=\n",
    "* Modulus AND: %=\n",
    "* Exponent AND: **="
   ]
  },
  {
   "cell_type": "markdown",
   "metadata": {
    "id": "kIGd6ro-UKx8"
   },
   "source": [
    "### Comparison operators"
   ]
  },
  {
   "cell_type": "code",
   "execution_count": 6,
   "metadata": {
    "executionInfo": {
     "elapsed": 285,
     "status": "ok",
     "timestamp": 1622218814259,
     "user": {
      "displayName": "Gawain Chin",
      "photoUrl": "https://lh3.googleusercontent.com/a-/AOh14Gj90OdQJBrJ0unU6HssJVP6TlbYPnXtYvcBpOazOw=s64",
      "userId": "07582472287713846748"
     },
     "user_tz": -480
    },
    "id": "tMsDPKufUKx8"
   },
   "outputs": [],
   "source": [
    "# Equal to\n",
    "# Not equal to\n",
    "# Greater than\n",
    "# Less than\n",
    "# Greater than or equal to\n",
    "# Less than or equal to"
   ]
  },
  {
   "cell_type": "code",
   "execution_count": 88,
   "metadata": {},
   "outputs": [],
   "source": [
    "a = 9\n",
    "b = 3"
   ]
  },
  {
   "cell_type": "code",
   "execution_count": 89,
   "metadata": {},
   "outputs": [
    {
     "name": "stdout",
     "output_type": "stream",
     "text": [
      "False\n",
      "True\n",
      "True\n",
      "False\n",
      "True\n",
      "False\n"
     ]
    }
   ],
   "source": [
    "print(a == b)\n",
    "print(a != b)\n",
    "print(a > b)\n",
    "print(a < b)\n",
    "print(a >= b)\n",
    "print(a <= b)"
   ]
  },
  {
   "cell_type": "code",
   "execution_count": 90,
   "metadata": {},
   "outputs": [],
   "source": [
    "is_equal = a == b"
   ]
  },
  {
   "cell_type": "code",
   "execution_count": 91,
   "metadata": {},
   "outputs": [
    {
     "name": "stdout",
     "output_type": "stream",
     "text": [
      "False\n"
     ]
    }
   ],
   "source": [
    "print(is_equal)"
   ]
  },
  {
   "cell_type": "markdown",
   "metadata": {
    "id": "puRmKJ26UKx9"
   },
   "source": [
    "### Logical operators"
   ]
  },
  {
   "cell_type": "code",
   "execution_count": null,
   "metadata": {
    "id": "fsx9757YUKx-",
    "outputId": "280a8949-53d6-4d49-ea99-8c43a5b3f0b7"
   },
   "outputs": [
    {
     "name": "stdin",
     "output_type": "stream",
     "text": [
      "Please insert an integer:  11\n"
     ]
    },
    {
     "name": "stdout",
     "output_type": "stream",
     "text": [
      "False\n"
     ]
    }
   ],
   "source": [
    "# get input from user \n",
    "# check input number if between lower 1 to upper 9 (inclusive)\n",
    "# print(result)"
   ]
  },
  {
   "cell_type": "code",
   "execution_count": 96,
   "metadata": {},
   "outputs": [
    {
     "name": "stdin",
     "output_type": "stream",
     "text": [
      "get number 11\n"
     ]
    },
    {
     "name": "stdout",
     "output_type": "stream",
     "text": [
      "False\n"
     ]
    }
   ],
   "source": [
    "num = input('get number')\n",
    "num = int(num)\n",
    "print(num >= 1 and num <= 9)"
   ]
  },
  {
   "cell_type": "code",
   "execution_count": null,
   "metadata": {
    "id": "kdoBu3wdUKx_"
   },
   "outputs": [],
   "source": [
    "# and or not"
   ]
  },
  {
   "cell_type": "markdown",
   "metadata": {
    "id": "pfI3-uqmUKx_"
   },
   "source": [
    "### Bitwise operators"
   ]
  },
  {
   "cell_type": "code",
   "execution_count": null,
   "metadata": {
    "id": "eGKbIaYTx0ee"
   },
   "outputs": [],
   "source": []
  },
  {
   "cell_type": "markdown",
   "metadata": {
    "id": "CRxaXcJZUKx_"
   },
   "source": [
    "### Identiy operators"
   ]
  },
  {
   "cell_type": "markdown",
   "metadata": {
    "id": "Cwi12P_qUKyJ"
   },
   "source": [
    "# 5. Control flow\n",
    "## If, else and elif"
   ]
  },
  {
   "cell_type": "code",
   "execution_count": null,
   "metadata": {
    "id": "QK5ZEGGEUKyJ",
    "outputId": "0ec940a9-d55b-4890-cbea-0c89c4528d96"
   },
   "outputs": [
    {
     "name": "stdout",
     "output_type": "stream",
     "text": [
      "greather than 10\n"
     ]
    }
   ],
   "source": [
    "if event_a:\n",
    "    xxx\n",
    "    xxxx\n",
    "    xxxx\n",
    "    xx\n",
    "    xx\n",
    "elif event_b:\n",
    "    yyy\n",
    "    yyy\n",
    "else:\n",
    "    zzzzz\n",
    "<-----\n",
    "\n",
    "if -> elif -> else\n",
    "if -> elif -> elif \n",
    "if -> else \n",
    "\n",
    "if event_a:\n",
    "    if event_b:\n",
    "        xxxxxxx\n",
    "    elif event_v:\n",
    "        xxxxxx\n",
    "\n",
    "\n",
    "if event_a and event_b:\n",
    "        xxxxxxx"
   ]
  },
  {
   "cell_type": "code",
   "execution_count": 97,
   "metadata": {},
   "outputs": [
    {
     "name": "stdout",
     "output_type": "stream",
     "text": [
      "No!\n"
     ]
    }
   ],
   "source": [
    "a = 5\n",
    "if a > 10:\n",
    "    print('Greater!')\n",
    "else:\n",
    "    print('No!')"
   ]
  },
  {
   "cell_type": "code",
   "execution_count": 98,
   "metadata": {},
   "outputs": [
    {
     "name": "stdout",
     "output_type": "stream",
     "text": [
      "yes\n",
      "haha\n"
     ]
    }
   ],
   "source": [
    "if True:\n",
    "    print('yes')\n",
    "    print('haha')\n",
    "else:\n",
    "    print('no')"
   ]
  },
  {
   "cell_type": "code",
   "execution_count": 99,
   "metadata": {},
   "outputs": [
    {
     "name": "stdout",
     "output_type": "stream",
     "text": [
      "Smaller\n"
     ]
    }
   ],
   "source": [
    "a = 5\n",
    "if a > 10:\n",
    "    print('Greater!')\n",
    "elif a < 10:\n",
    "    print('Smaller')\n",
    "else:\n",
    "    print('10!!!')"
   ]
  },
  {
   "cell_type": "code",
   "execution_count": 100,
   "metadata": {},
   "outputs": [],
   "source": [
    "a = 10\n",
    "if a > 10:\n",
    "    print('Greater!')\n",
    "elif a < 10:\n",
    "    print('Smaller')"
   ]
  },
  {
   "cell_type": "code",
   "execution_count": null,
   "metadata": {},
   "outputs": [],
   "source": []
  },
  {
   "cell_type": "markdown",
   "metadata": {
    "id": "ctfZ5qoqUKyK"
   },
   "source": [
    "## Loops"
   ]
  },
  {
   "cell_type": "markdown",
   "metadata": {
    "id": "StdggeJkUKyM"
   },
   "source": [
    "### While loop"
   ]
  },
  {
   "cell_type": "code",
   "execution_count": null,
   "metadata": {
    "id": "yvMAsTwtUKyM",
    "outputId": "d81634b7-afa9-459f-b0a8-16e061276dcd"
   },
   "outputs": [
    {
     "name": "stdout",
     "output_type": "stream",
     "text": [
      "5\n"
     ]
    }
   ],
   "source": [
    "while event_A: <----\n",
    "    xxx\n",
    "    yyy"
   ]
  },
  {
   "cell_type": "code",
   "execution_count": 53,
   "metadata": {},
   "outputs": [
    {
     "name": "stdout",
     "output_type": "stream",
     "text": [
      "0\n",
      "1\n",
      "2\n",
      "3\n",
      "4\n",
      "5\n",
      "6\n",
      "7\n",
      "8\n",
      "9\n"
     ]
    }
   ],
   "source": [
    "for i in range(10):\n",
    "    print(i)"
   ]
  },
  {
   "cell_type": "code",
   "execution_count": 54,
   "metadata": {},
   "outputs": [
    {
     "name": "stdout",
     "output_type": "stream",
     "text": [
      "0\n",
      "1\n",
      "2\n",
      "3\n",
      "4\n",
      "5\n",
      "6\n",
      "7\n",
      "8\n",
      "9\n"
     ]
    }
   ],
   "source": [
    "num = 0\n",
    "while num < 10:\n",
    "    print(num)\n",
    "    num=num+1"
   ]
  },
  {
   "cell_type": "code",
   "execution_count": null,
   "metadata": {},
   "outputs": [],
   "source": [
    "# will cause infinity running\n",
    "num = 0\n",
    "while num>=0:\n",
    "    print(num)\n",
    "    num += 1"
   ]
  },
  {
   "cell_type": "code",
   "execution_count": 56,
   "metadata": {},
   "outputs": [
    {
     "name": "stdout",
     "output_type": "stream",
     "text": [
      "0\n",
      "1\n",
      "2\n",
      "3\n",
      "4\n",
      "5\n",
      "6\n",
      "7\n",
      "8\n",
      "9\n"
     ]
    }
   ],
   "source": [
    "num = 0\n",
    "while True:\n",
    "    print(num)\n",
    "    num += 1\n",
    "    if num ==10:\n",
    "        break"
   ]
  },
  {
   "cell_type": "code",
   "execution_count": 58,
   "metadata": {},
   "outputs": [
    {
     "name": "stdin",
     "output_type": "stream",
     "text": [
      "how old are you eaf\n",
      "how old are you ef\n",
      "how old are you 5t\n",
      "how old are you 50\n"
     ]
    }
   ],
   "source": [
    "while True:\n",
    "    age = input('how old are you')\n",
    "    if age.isdigit():\n",
    "        break"
   ]
  },
  {
   "cell_type": "code",
   "execution_count": 60,
   "metadata": {},
   "outputs": [
    {
     "name": "stdin",
     "output_type": "stream",
     "text": [
      "password 1\n",
      "password 1\n",
      "password 1\n",
      "password 1\n",
      "password 1\n"
     ]
    },
    {
     "name": "stdout",
     "output_type": "stream",
     "text": [
      "too many times\n"
     ]
    }
   ],
   "source": [
    "# password checking\n",
    "counter = 0\n",
    "while True:\n",
    "    pw = input('password')\n",
    "    counter += 1\n",
    "    \n",
    "    if pw == '12345':\n",
    "        print('correct')\n",
    "        break\n",
    "    elif counter < 3:\n",
    "        continue\n",
    "    elif counter < 5:\n",
    "        pass\n",
    "    else:\n",
    "        print('too many times')\n",
    "        break\n",
    "        \n",
    "        print('wrong password')"
   ]
  },
  {
   "cell_type": "code",
   "execution_count": null,
   "metadata": {},
   "outputs": [],
   "source": []
  },
  {
   "cell_type": "code",
   "execution_count": null,
   "metadata": {},
   "outputs": [],
   "source": []
  },
  {
   "cell_type": "code",
   "execution_count": null,
   "metadata": {},
   "outputs": [],
   "source": []
  },
  {
   "cell_type": "code",
   "execution_count": null,
   "metadata": {},
   "outputs": [],
   "source": []
  },
  {
   "cell_type": "code",
   "execution_count": null,
   "metadata": {},
   "outputs": [],
   "source": []
  },
  {
   "cell_type": "markdown",
   "metadata": {
    "id": "KJlRHZ30UKyO"
   },
   "source": [
    "### Infinite loop"
   ]
  },
  {
   "cell_type": "code",
   "execution_count": null,
   "metadata": {
    "id": "JGZzLnO1UKyO"
   },
   "outputs": [],
   "source": []
  },
  {
   "cell_type": "markdown",
   "metadata": {
    "id": "IyjMgYqPUKyO"
   },
   "source": [
    "### For loop"
   ]
  },
  {
   "cell_type": "code",
   "execution_count": 101,
   "metadata": {
    "id": "Ft65-JDcx7n3"
   },
   "outputs": [
    {
     "name": "stdout",
     "output_type": "stream",
     "text": [
      "0\n",
      "1\n",
      "2\n",
      "3\n",
      "4\n",
      "5\n",
      "6\n",
      "7\n",
      "8\n",
      "9\n"
     ]
    }
   ],
   "source": [
    "for i in range(10):\n",
    "    print(i)"
   ]
  },
  {
   "cell_type": "code",
   "execution_count": null,
   "metadata": {},
   "outputs": [],
   "source": [
    "# i = 0 --> print(i)\n",
    "# i = 1 --> print(i)\n",
    "# i = 2 --> print(i)\n",
    "...\n",
    "# i = 9 --> print(i)"
   ]
  },
  {
   "cell_type": "code",
   "execution_count": 104,
   "metadata": {},
   "outputs": [
    {
     "name": "stdin",
     "output_type": "stream",
     "text": [
      "How old are you? 10\n"
     ]
    },
    {
     "name": "stdout",
     "output_type": "stream",
     "text": [
      "No!\n"
     ]
    },
    {
     "name": "stdin",
     "output_type": "stream",
     "text": [
      "How old are you? 80\n"
     ]
    },
    {
     "name": "stdout",
     "output_type": "stream",
     "text": [
      "80\n"
     ]
    },
    {
     "name": "stdin",
     "output_type": "stream",
     "text": [
      "How old are you? 75\n"
     ]
    },
    {
     "name": "stdout",
     "output_type": "stream",
     "text": [
      "75\n"
     ]
    }
   ],
   "source": [
    "for i in range(3):\n",
    "    age = input('How old are you?')\n",
    "    if int(age) >= 18:\n",
    "        print(age)\n",
    "    else:\n",
    "        print('No!')"
   ]
  },
  {
   "cell_type": "code",
   "execution_count": 105,
   "metadata": {},
   "outputs": [
    {
     "name": "stdin",
     "output_type": "stream",
     "text": [
      "How old are you? 10\n"
     ]
    },
    {
     "name": "stdout",
     "output_type": "stream",
     "text": [
      "No!\n"
     ]
    },
    {
     "name": "stdin",
     "output_type": "stream",
     "text": [
      "How old are you? 20\n"
     ]
    },
    {
     "name": "stdout",
     "output_type": "stream",
     "text": [
      "20\n",
      "OK\n"
     ]
    }
   ],
   "source": [
    "for i in range(3):\n",
    "    age = input('How old are you?')\n",
    "    if int(age) >= 18:\n",
    "        print(age)\n",
    "        print('OK')\n",
    "        break\n",
    "    else:\n",
    "        print('No!')"
   ]
  },
  {
   "cell_type": "code",
   "execution_count": null,
   "metadata": {},
   "outputs": [],
   "source": [
    "# 1 + 2 + 3 + 4 + 5 + 6 + ... + 27\n",
    "\n",
    "xxx\n",
    "for i in range(27+1):\n",
    "    xxx"
   ]
  },
  {
   "cell_type": "code",
   "execution_count": 106,
   "metadata": {},
   "outputs": [
    {
     "name": "stdout",
     "output_type": "stream",
     "text": [
      "378\n"
     ]
    }
   ],
   "source": [
    "a = 0\n",
    "for i in range(28):\n",
    "    a += i\n",
    "print(a)"
   ]
  },
  {
   "cell_type": "code",
   "execution_count": null,
   "metadata": {},
   "outputs": [],
   "source": []
  },
  {
   "cell_type": "code",
   "execution_count": 46,
   "metadata": {},
   "outputs": [
    {
     "name": "stdout",
     "output_type": "stream",
     "text": [
      "499500\n"
     ]
    }
   ],
   "source": [
    "a = 0\n",
    "for i in range(1,1000):\n",
    "    a += i\n",
    "print(a)"
   ]
  },
  {
   "cell_type": "code",
   "execution_count": 47,
   "metadata": {},
   "outputs": [
    {
     "name": "stdout",
     "output_type": "stream",
     "text": [
      "a, b, a, c, a, a, d, b, j, a, f, b, d, j, "
     ]
    }
   ],
   "source": [
    "for i in 'abacaadbjafbdj':\n",
    "    print(i, end=', ')"
   ]
  },
  {
   "cell_type": "code",
   "execution_count": 48,
   "metadata": {},
   "outputs": [
    {
     "name": "stdout",
     "output_type": "stream",
     "text": [
      "Hello\n",
      "world\n",
      "toad\n",
      "is\n",
      "a\n",
      "good\n",
      "day\n"
     ]
    }
   ],
   "source": [
    "sentence = 'Hello world toad is a good day'\n",
    "words = sentence.split()\n",
    "for i in words:\n",
    "    print(i)"
   ]
  },
  {
   "cell_type": "code",
   "execution_count": 52,
   "metadata": {},
   "outputs": [
    {
     "name": "stdout",
     "output_type": "stream",
     "text": [
      "0 Hello\n",
      "1 world\n",
      "2 toad\n",
      "3 is\n",
      "4 a\n",
      "5 good\n",
      "6 day\n"
     ]
    }
   ],
   "source": [
    "for i, j in enumerate(words):\n",
    "    print(i, j)"
   ]
  },
  {
   "cell_type": "code",
   "execution_count": null,
   "metadata": {},
   "outputs": [],
   "source": []
  },
  {
   "cell_type": "code",
   "execution_count": null,
   "metadata": {},
   "outputs": [],
   "source": []
  },
  {
   "cell_type": "code",
   "execution_count": null,
   "metadata": {},
   "outputs": [],
   "source": []
  },
  {
   "cell_type": "code",
   "execution_count": null,
   "metadata": {},
   "outputs": [],
   "source": []
  },
  {
   "cell_type": "markdown",
   "metadata": {
    "id": "OGHaV3tWUKyR"
   },
   "source": [
    "### break and continue"
   ]
  },
  {
   "cell_type": "markdown",
   "metadata": {
    "id": "nVsgZeHjUKyD"
   },
   "source": [
    "# 6. Functions\n",
    "\n",
    "Key concepts on functions:\n",
    "\n",
    "- def - Keywords to inform Python in defining a function\n",
    "- \\<function_name\\> - function naming to be called\n",
    "- \\<arguments\\> - optional, comma-separated arguments that serves as an inputs of the functions\n",
    "- : - Punctuation that notes the end of python function header\n",
    "- \\<statements\\> - block of code wished to be operated\n",
    "\n",
    "![functions.png](data:image/png;base64,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)"
   ]
  },
  {
   "cell_type": "markdown",
   "metadata": {
    "id": "cvVUt0DSUKyD"
   },
   "source": [
    "### Define a function"
   ]
  },
  {
   "cell_type": "code",
   "execution_count": 113,
   "metadata": {
    "id": "2TtFfCaLyPz2"
   },
   "outputs": [],
   "source": [
    "def my_func():\n",
    "    name = input('What is your name?')\n",
    "    age = input('How old are you?')\n",
    "    age = str(int(age) + 5)\n",
    "    print('Hello ' + name + ' ' + age)"
   ]
  },
  {
   "cell_type": "code",
   "execution_count": 114,
   "metadata": {},
   "outputs": [
    {
     "name": "stdin",
     "output_type": "stream",
     "text": [
      "What is your name? wayne\n",
      "How old are you? 50\n"
     ]
    },
    {
     "name": "stdout",
     "output_type": "stream",
     "text": [
      "Hello wayne 55\n"
     ]
    }
   ],
   "source": [
    "my_func()"
   ]
  },
  {
   "cell_type": "code",
   "execution_count": 109,
   "metadata": {},
   "outputs": [],
   "source": [
    "def my_func1(add_number):\n",
    "    name = input('What is your name?')\n",
    "    age = input('How old are you?')\n",
    "    age = str(int(age) + add_number)\n",
    "    print('Hello ' + name + ' ' + age)"
   ]
  },
  {
   "cell_type": "code",
   "execution_count": 111,
   "metadata": {},
   "outputs": [
    {
     "name": "stdin",
     "output_type": "stream",
     "text": [
      "What is your name? wayne\n",
      "How old are you? 50\n"
     ]
    },
    {
     "name": "stdout",
     "output_type": "stream",
     "text": [
      "Hello wayne 53\n"
     ]
    }
   ],
   "source": [
    "my_func1(3)"
   ]
  },
  {
   "cell_type": "code",
   "execution_count": 112,
   "metadata": {},
   "outputs": [
    {
     "name": "stdin",
     "output_type": "stream",
     "text": [
      "What is your name? wayne\n",
      "How old are you? 50\n"
     ]
    },
    {
     "name": "stdout",
     "output_type": "stream",
     "text": [
      "Hello wayne 55\n"
     ]
    }
   ],
   "source": [
    "my_func1(5)"
   ]
  },
  {
   "cell_type": "markdown",
   "metadata": {
    "id": "399El-3aUKyG"
   },
   "source": [
    "### Call your function"
   ]
  },
  {
   "cell_type": "code",
   "execution_count": null,
   "metadata": {
    "id": "2S9UxOPRyRil"
   },
   "outputs": [],
   "source": []
  },
  {
   "cell_type": "markdown",
   "metadata": {
    "id": "WxVIbHygUKyI"
   },
   "source": [
    "### Default arguments"
   ]
  },
  {
   "cell_type": "code",
   "execution_count": null,
   "metadata": {
    "id": "g7wIip2XUKyI"
   },
   "outputs": [],
   "source": []
  },
  {
   "cell_type": "markdown",
   "metadata": {
    "id": "1HEipOpsUKyJ"
   },
   "source": [
    "### Function return"
   ]
  },
  {
   "cell_type": "code",
   "execution_count": null,
   "metadata": {
    "id": "OgGgZQ31UKyJ"
   },
   "outputs": [],
   "source": []
  },
  {
   "cell_type": "markdown",
   "metadata": {
    "id": "BjSXErTMUKyS"
   },
   "source": [
    "# Homework\n",
    "Write a function to prints out a list of all the divisors of a user input number. \n",
    "A divisor is a number that divides into another number without a remainder. \n",
    "For example, 1,3,5,15 is the divisors of 15."
   ]
  },
  {
   "cell_type": "raw",
   "metadata": {
    "id": "Ww8X94l5yU_W"
   },
   "source": [
    "get_divisor(15)\n",
    "> 1\n",
    "> 3\n",
    "> 5\n",
    "> 15\n",
    "\n",
    "get_divisor(10)\n",
    "> 1\n",
    "> 2\n",
    "> 5\n",
    "> 10\n",
    "\n",
    "get_divisor(9)\n",
    "> 1\n",
    "> 3\n",
    "> 9"
   ]
  },
  {
   "cell_type": "code",
   "execution_count": null,
   "metadata": {},
   "outputs": [],
   "source": [
    "def get_divisor(num):\n",
    "    xxx"
   ]
  }
 ],
 "metadata": {
  "colab": {
   "collapsed_sections": [],
   "name": "PYDS01_Class.ipynb",
   "provenance": [],
   "toc_visible": true
  },
  "kernelspec": {
   "display_name": "Python 3 (ipykernel)",
   "language": "python",
   "name": "python3"
  },
  "language_info": {
   "codemirror_mode": {
    "name": "ipython",
    "version": 3
   },
   "file_extension": ".py",
   "mimetype": "text/x-python",
   "name": "python",
   "nbconvert_exporter": "python",
   "pygments_lexer": "ipython3",
   "version": "3.9.12"
  }
 },
 "nbformat": 4,
 "nbformat_minor": 4
}
